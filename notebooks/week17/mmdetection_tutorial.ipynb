{
 "cells": [
  {
   "cell_type": "markdown",
   "metadata": {
    "id": "cZhCi_bxrhKS"
   },
   "source": [
    "# Neural Object Detection: Practice\n",
    "## Part 2: SSD training\n",
    "\n",
    "*Ilya Zakharkin, November 2020*"
   ]
  },
  {
   "cell_type": "markdown",
   "metadata": {
    "id": "r29Z32RVri4u"
   },
   "source": [
    "---\n",
    "### This notebook requires a GPU runtime to run.\n",
    "### Please select the menu option \"Runtime\" -> \"Change runtime type\", select \"Hardware Accelerator\" -> \"GPU\" and click \"SAVE\"\n",
    "---"
   ]
  },
  {
   "cell_type": "markdown",
   "metadata": {
    "id": "9aFdhLcvsAlw"
   },
   "source": [
    "Previous year there was a [good Computer Vision practice lesson](https://www.youtube.com/watch?v=XSPYe4-y4HE) (RUS), its [notebooks](https://drive.google.com/drive/folders/1ZpS8oyI__3QvjoIwVZwur4I5e4qIExPS?usp=sharing).\n",
    "\n",
    "This year we will master inference and training of the SSD neural network discussed on the lecture."
   ]
  },
  {
   "cell_type": "markdown",
   "metadata": {
    "id": "-w2T69eOsBdv"
   },
   "source": [
    "This notebook is based on [mmdetection colab tutorial](https://github.com/open-mmlab/mmdetection/blob/master/demo/MMDet_Tutorial.ipynb)."
   ]
  },
  {
   "cell_type": "markdown",
   "metadata": {
    "id": "aGYwt_UjIrqp"
   },
   "source": [
    "# MMDetection Tutorial\n",
    "\n",
    "Welcome to MMDetection! This is the official colab tutorial for using MMDetection. In this tutorial, you will learn\n",
    "- Perform inference with a MMDet detector.\n",
    "- Train a new detector with a new dataset.\n",
    "\n",
    "Let's start!\n"
   ]
  },
  {
   "cell_type": "markdown",
   "metadata": {
    "id": "tJxJHruNLb7Y"
   },
   "source": [
    "## Install MMDetection"
   ]
  },
  {
   "cell_type": "code",
   "execution_count": 1,
   "metadata": {
    "colab": {
     "base_uri": "https://localhost:8080/"
    },
    "id": "Wi4LPmsR66sy",
    "outputId": "cfb79eb8-76fb-400d-9dd8-ae978e662ae1"
   },
   "outputs": [
    {
     "name": "stdout",
     "output_type": "stream",
     "text": [
      "nvcc: NVIDIA (R) Cuda compiler driver\n",
      "Copyright (c) 2005-2024 NVIDIA Corporation\n",
      "Built on Thu_Jun__6_02:18:23_PDT_2024\n",
      "Cuda compilation tools, release 12.5, V12.5.82\n",
      "Build cuda_12.5.r12.5/compiler.34385749_0\n"
     ]
    },
    {
     "name": "stdout",
     "output_type": "stream",
     "text": [
      "gcc (Ubuntu 11.4.0-1ubuntu1~22.04) 11.4.0\n",
      "Copyright (C) 2021 Free Software Foundation, Inc.\n",
      "This is free software; see the source for copying conditions.  There is NO\n",
      "warranty; not even for MERCHANTABILITY or FITNESS FOR A PARTICULAR PURPOSE.\n",
      "\n"
     ]
    }
   ],
   "source": [
    "# Check nvcc version\n",
    "!nvcc -V\n",
    "# Check GCC version\n",
    "!gcc --version"
   ]
  },
  {
   "cell_type": "code",
   "execution_count": 2,
   "metadata": {
    "colab": {
     "base_uri": "https://localhost:8080/"
    },
    "id": "vkZWQFxFKOcr",
    "outputId": "f9617067-77d2-4b7d-99a2-f9ba9dfa7c8d"
   },
   "outputs": [
    {
     "name": "stdout",
     "output_type": "stream",
     "text": [
      "Mon Jul 22 17:51:36 2024       \n",
      "+-----------------------------------------------------------------------------------------+\n",
      "| NVIDIA-SMI 555.42.06              Driver Version: 555.42.06      CUDA Version: 12.5     |\n",
      "|-----------------------------------------+------------------------+----------------------+\n",
      "| GPU  Name                 Persistence-M | Bus-Id          Disp.A | Volatile Uncorr. ECC |\n",
      "| Fan  Temp   Perf          Pwr:Usage/Cap |           Memory-Usage | GPU-Util  Compute M. |\n",
      "|                                         |                        |               MIG M. |\n",
      "|=========================================+========================+======================|\n",
      "|   0  NVIDIA A100-SXM4-80GB          Off |   00000000:07:00.0 Off |                    0 |\n",
      "| N/A   26C    P0             62W /  400W |       4MiB /  81920MiB |      0%      Default |\n",
      "|                                         |                        |             Disabled |\n",
      "+-----------------------------------------+------------------------+----------------------+\n",
      "|   1  NVIDIA A100-SXM4-80GB          Off |   00000000:0A:00.0 Off |                    0 |\n",
      "| N/A   25C    P0             62W /  400W |       4MiB /  81920MiB |      0%      Default |\n",
      "|                                         |                        |             Disabled |\n",
      "+-----------------------------------------+------------------------+----------------------+\n",
      "|   2  NVIDIA A100-SXM4-80GB          Off |   00000000:47:00.0 Off |                    0 |\n",
      "| N/A   25C    P0             62W /  400W |       4MiB /  81920MiB |      0%      Default |\n",
      "|                                         |                        |             Disabled |\n",
      "+-----------------------------------------+------------------------+----------------------+\n",
      "|   3  NVIDIA A100-SXM4-80GB          Off |   00000000:4D:00.0 Off |                    0 |\n",
      "| N/A   27C    P0             63W /  400W |       4MiB /  81920MiB |      0%      Default |\n",
      "|                                         |                        |             Disabled |\n",
      "+-----------------------------------------+------------------------+----------------------+\n",
      "|   4  NVIDIA A100-SXM4-80GB          Off |   00000000:87:00.0 Off |                    0 |\n",
      "| N/A   28C    P0             61W /  400W |       4MiB /  81920MiB |      0%      Default |\n",
      "|                                         |                        |             Disabled |\n",
      "+-----------------------------------------+------------------------+----------------------+\n",
      "|   5  NVIDIA A100-SXM4-80GB          Off |   00000000:8D:00.0 Off |                    0 |\n",
      "| N/A   25C    P0             63W /  400W |       4MiB /  81920MiB |      0%      Default |\n",
      "|                                         |                        |             Disabled |\n",
      "+-----------------------------------------+------------------------+----------------------+\n",
      "|   6  NVIDIA A100-SXM4-80GB          Off |   00000000:C7:00.0 Off |                    0 |\n",
      "| N/A   25C    P0             61W /  400W |       4MiB /  81920MiB |      0%      Default |\n",
      "|                                         |                        |             Disabled |\n",
      "+-----------------------------------------+------------------------+----------------------+\n",
      "|   7  NVIDIA A100-SXM4-80GB          Off |   00000000:CA:00.0 Off |                    0 |\n",
      "| N/A   27C    P0             63W /  400W |       4MiB /  81920MiB |      0%      Default |\n",
      "|                                         |                        |             Disabled |\n",
      "+-----------------------------------------+------------------------+----------------------+\n",
      "                                                                                         \n",
      "+-----------------------------------------------------------------------------------------+\n",
      "| Processes:                                                                              |\n",
      "|  GPU   GI   CI        PID   Type   Process name                              GPU Memory |\n",
      "|        ID   ID                                                               Usage      |\n",
      "|=========================================================================================|\n",
      "|  No running processes found                                                             |\n",
      "+-----------------------------------------------------------------------------------------+\n"
     ]
    }
   ],
   "source": [
    "!nvidia-smi"
   ]
  },
  {
   "cell_type": "code",
   "execution_count": 3,
   "metadata": {
    "colab": {
     "base_uri": "https://localhost:8080/"
    },
    "id": "gkGnB9WyHSXB",
    "outputId": "2bbb998f-3a74-4300-d3c4-3ef629e2378a"
   },
   "outputs": [],
   "source": [
    "# install dependencies: (use cu101 because colab has CUDA 10.1)\n",
    "# !pip install -U torch==1.5.1+cu101 torchvision==0.6.1+cu101 -f https://download.pytorch.org/whl/torch_stable.html\n",
    "\n",
    "# install mmcv-full thus we could use CUDA operators\n",
    "# !pip install mmcv-full\n",
    "\n",
    "# Install mmdetection\n",
    "# !rm -rf mmdetection\n",
    "# !git clone https://github.com/open-mmlab/mmdetection.git\n",
    "# %cd mmdetection\n",
    "\n",
    "# !pip install -e .\n",
    "\n",
    "# install Pillow 7.0.0 back in order to avoid bug in colab\n",
    "# !pip install Pillow==7.0.0"
   ]
  },
  {
   "cell_type": "code",
   "execution_count": 1,
   "metadata": {
    "id": "6hD0mmMixT0p"
   },
   "outputs": [
    {
     "name": "stdout",
     "output_type": "stream",
     "text": [
      "2.5.0.dev20240720+cu124 True\n",
      "3.3.0\n",
      "12.5\n",
      "GCC 11.4\n"
     ]
    },
    {
     "name": "stderr",
     "output_type": "stream",
     "text": [
      "/root/.pyenv/versions/3.11.5/lib/python3.11/site-packages/mmengine/optim/optimizer/zero_optimizer.py:11: DeprecationWarning: `TorchScript` support for functional optimizers is deprecated and will be removed in a future PyTorch release. Consider using the `torch.compile` optimizer instead.\n",
      "  from torch.distributed.optim import \\\n"
     ]
    }
   ],
   "source": [
    "# Check Pytorch installation\n",
    "import torch, torchvision\n",
    "print(torch.__version__, torch.cuda.is_available())\n",
    "\n",
    "# Check MMDetection installation\n",
    "import mmdet\n",
    "print(mmdet.__version__)\n",
    "\n",
    "# Check mmcv installation\n",
    "from mmcv.ops import get_compiling_cuda_version, get_compiler_version\n",
    "print(get_compiling_cuda_version())\n",
    "print(get_compiler_version())"
   ]
  },
  {
   "cell_type": "markdown",
   "metadata": {
    "id": "gi9zw03oM4CH"
   },
   "source": [
    "## Perform inference with a MMDet detector\n",
    "MMDetection already provides high level APIs to do inference and training."
   ]
  },
  {
   "cell_type": "markdown",
   "metadata": {
    "id": "PgxoJdmCWfga"
   },
   "source": [
    "Let's compare two models: Mask-RCNN (more heavy model) and SSD300 (more lightweight model)."
   ]
  },
  {
   "cell_type": "markdown",
   "metadata": {
    "id": "qMtaxQrPWc1F"
   },
   "source": [
    "Download the Mask-RCNN weights:"
   ]
  },
  {
   "cell_type": "code",
   "execution_count": 4,
   "metadata": {
    "id": "j4doHX4exvS1"
   },
   "outputs": [
    {
     "name": "stdout",
     "output_type": "stream",
     "text": [
      "--2024-07-22 17:20:09--  https://download.openmmlab.com/mmdetection/v2.0/mask_rcnn/mask_rcnn_r50_caffe_fpn_mstrain-poly_3x_coco/mask_rcnn_r50_caffe_fpn_mstrain-poly_3x_coco_bbox_mAP-0.408__segm_mAP-0.37_20200504_163245-42aa3d00.pth\n",
      "Resolving download.openmmlab.com (download.openmmlab.com)... 104.166.182.20, 104.166.182.23, 104.166.182.21, ...\n",
      "Connecting to download.openmmlab.com (download.openmmlab.com)|104.166.182.20|:443... connected.\n",
      "HTTP request sent, awaiting response... 200 OK\n",
      "Length: 177867103 (170M) [application/octet-stream]\n",
      "Saving to: ‘checkpoints/mask_rcnn_r50_caffe_fpn_mstrain-poly_3x_coco_bbox_mAP-0.408__segm_mAP-0.37_20200504_163245-42aa3d00.pth’\n",
      "\n",
      "checkpoints/mask_rc 100%[===================>] 169.63M  23.7MB/s    in 6.7s    \n",
      "\n",
      "2024-07-22 17:20:16 (25.5 MB/s) - ‘checkpoints/mask_rcnn_r50_caffe_fpn_mstrain-poly_3x_coco_bbox_mAP-0.408__segm_mAP-0.37_20200504_163245-42aa3d00.pth’ saved [177867103/177867103]\n",
      "\n"
     ]
    }
   ],
   "source": [
    "!mkdir checkpoints\n",
    "# !wget -c https://open-mmlab.s3.ap-northeast-2.amazonaws.com/mmdetection/v2.0/mask_rcnn/mask_rcnn_r50_caffe_fpn_mstrain-poly_3x_coco/mask_rcnn_r50_caffe_fpn_mstrain-poly_3x_coco_bbox_mAP-0.408__segm_mAP-0.37_20200504_163245-42aa3d00.pth \\\n",
    "!wget -c https://download.openmmlab.com/mmdetection/v2.0/mask_rcnn/mask_rcnn_r50_caffe_fpn_mstrain-poly_3x_coco/mask_rcnn_r50_caffe_fpn_mstrain-poly_3x_coco_bbox_mAP-0.408__segm_mAP-0.37_20200504_163245-42aa3d00.pth \\\n",
    "      -O checkpoints/mask_rcnn_r50_caffe_fpn_mstrain-poly_3x_coco_bbox_mAP-0.408__segm_mAP-0.37_20200504_163245-42aa3d00.pth"
   ]
  },
  {
   "cell_type": "markdown",
   "metadata": {
    "id": "-DTEzlxCWafp"
   },
   "source": [
    "Download the SSD300 weights:"
   ]
  },
  {
   "cell_type": "code",
   "execution_count": 5,
   "metadata": {
    "id": "xRBWGibfV0l8"
   },
   "outputs": [
    {
     "name": "stdout",
     "output_type": "stream",
     "text": [
      "--2024-07-22 17:20:24--  https://download.openmmlab.com/mmdetection/v2.0/ssd/ssd300_coco/ssd300_coco_20210803_015428-d231a06e.pth\n",
      "Resolving download.openmmlab.com (download.openmmlab.com)... 104.166.182.26, 104.166.182.27, 104.166.182.25, ...\n",
      "Connecting to download.openmmlab.com (download.openmmlab.com)|104.166.182.26|:443... connected.\n",
      "HTTP request sent, awaiting response... 200 OK\n",
      "Length: 137242646 (131M) [application/octet-stream]\n",
      "Saving to: ‘checkpoints/ssd300_coco_20210803_015428-d231a06e.pth’\n",
      "\n",
      "checkpoints/ssd300_ 100%[===================>] 130.88M  25.3MB/s    in 5.2s    \n",
      "\n",
      "2024-07-22 17:20:30 (25.1 MB/s) - ‘checkpoints/ssd300_coco_20210803_015428-d231a06e.pth’ saved [137242646/137242646]\n",
      "\n"
     ]
    }
   ],
   "source": [
    "# !wget -c http://download.openmmlab.com/mmdetection/v2.0/ssd/ssd300_coco/ssd300_coco_20200307-a92d2092.pth \\\n",
    "!wget -c https://download.openmmlab.com/mmdetection/v2.0/ssd/ssd300_coco/ssd300_coco_20210803_015428-d231a06e.pth \\\n",
    "      -O checkpoints/ssd300_coco_20210803_015428-d231a06e.pth"
   ]
  },
  {
   "cell_type": "code",
   "execution_count": 4,
   "metadata": {
    "id": "W2A3i_CAWFXv"
   },
   "outputs": [
    {
     "name": "stdout",
     "output_type": "stream",
     "text": [
      "mask_rcnn_r50_caffe_fpn_mstrain-poly_3x_coco_bbox_mAP-0.408__segm_mAP-0.37_20200504_163245-42aa3d00.pth\n",
      "ssd300_coco_20210803_015428-d231a06e.pth\n"
     ]
    }
   ],
   "source": [
    "!ls checkpoints"
   ]
  },
  {
   "cell_type": "markdown",
   "metadata": {
    "id": "gsH8F20iWpCl"
   },
   "source": [
    "We will use internal API methods for initialization, inference and visualization ofr model predictions:"
   ]
  },
  {
   "cell_type": "markdown",
   "metadata": {
    "id": "iFTKqAGfX4Df"
   },
   "source": [
    "Mask-RCNN:"
   ]
  },
  {
   "cell_type": "code",
   "execution_count": 2,
   "metadata": {
    "id": "8M5KUnX7Np3h"
   },
   "outputs": [
    {
     "name": "stdout",
     "output_type": "stream",
     "text": [
      "Loads checkpoint by local backend from path: checkpoints/mask_rcnn_r50_caffe_fpn_mstrain-poly_3x_coco_bbox_mAP-0.408__segm_mAP-0.37_20200504_163245-42aa3d00.pth\n"
     ]
    },
    {
     "name": "stderr",
     "output_type": "stream",
     "text": [
      "/root/.pyenv/versions/3.11.5/lib/python3.11/site-packages/mmengine/runner/checkpoint.py:347: FutureWarning: You are using `torch.load` with `weights_only=False` (the current default value), which uses the default pickle module implicitly. It is possible to construct malicious pickle data which will execute arbitrary code during unpickling (See https://github.com/pytorch/pytorch/blob/main/SECURITY.md#untrusted-models for more details). In a future release, the default value for `weights_only` will be flipped to `True`. This limits the functions that could be executed during unpickling. Arbitrary objects will no longer be allowed to be loaded via this mode unless they are explicitly allowlisted by the user via `torch.serialization.add_safe_globals`. We recommend you start setting `weights_only=True` for any use case where you don't have full control of the loaded file. Please open an issue on GitHub for any issues related to this experimental feature.\n",
      "  checkpoint = torch.load(filename, map_location=map_location)\n"
     ]
    }
   ],
   "source": [
    "from mmdet.apis import inference_detector, init_detector\n",
    "\n",
    "# Choose to use a config and initialize the detector\n",
    "config = '/opt/notebooks/deep-learning/src/mmdet/configs/mask_rcnn/mask-rcnn_r50-caffe_fpn_ms-poly-3x_coco.py'\n",
    "# Setup a checkpoint file to load\n",
    "checkpoint = 'checkpoints/mask_rcnn_r50_caffe_fpn_mstrain-poly_3x_coco_bbox_mAP-0.408__segm_mAP-0.37_20200504_163245-42aa3d00.pth'\n",
    "# initialize the detector\n",
    "model = init_detector(config, checkpoint, device='cuda:0')"
   ]
  },
  {
   "cell_type": "code",
   "execution_count": 3,
   "metadata": {
    "id": "Wi6DRpsQPEmV"
   },
   "outputs": [],
   "source": [
    "# Use the detector to do inference\n",
    "img = './mmdetection/demo/demo.jpg'\n"
   ]
  },
  {
   "cell_type": "code",
   "execution_count": 4,
   "metadata": {},
   "outputs": [
    {
     "name": "stderr",
     "output_type": "stream",
     "text": [
      "/root/.pyenv/versions/3.11.5/lib/python3.11/site-packages/mmengine/visualization/visualizer.py:196: UserWarning: Failed to add <class 'mmengine.visualization.vis_backend.LocalVisBackend'>, please provide the `save_dir` argument.\n",
      "  warnings.warn(f'Failed to add {vis_backend.__class__}, '\n"
     ]
    },
    {
     "ename": "TypeError",
     "evalue": "inference_detector() got an unexpected keyword argument 'outdir'",
     "output_type": "error",
     "traceback": [
      "\u001b[0;31m---------------------------------------------------------------------------\u001b[0m",
      "\u001b[0;31mTypeError\u001b[0m                                 Traceback (most recent call last)",
      "Cell \u001b[0;32mIn[4], line 6\u001b[0m\n\u001b[1;32m      4\u001b[0m \u001b[38;5;28;01mimport\u001b[39;00m \u001b[38;5;21;01mmmcv\u001b[39;00m\n\u001b[1;32m      5\u001b[0m visualizer \u001b[38;5;241m=\u001b[39m VISUALIZERS\u001b[38;5;241m.\u001b[39mbuild(model\u001b[38;5;241m.\u001b[39mcfg\u001b[38;5;241m.\u001b[39mvisualizer)\n\u001b[0;32m----> 6\u001b[0m result \u001b[38;5;241m=\u001b[39m \u001b[43minference_detector\u001b[49m\u001b[43m(\u001b[49m\u001b[43mmodel\u001b[49m\u001b[43m,\u001b[49m\u001b[43m \u001b[49m\u001b[43mimg\u001b[49m\u001b[43m,\u001b[49m\u001b[43m \u001b[49m\u001b[43moutdir\u001b[49m\u001b[38;5;241;43m=\u001b[39;49m\u001b[38;5;124;43m'\u001b[39;49m\u001b[38;5;124;43m./out\u001b[39;49m\u001b[38;5;124;43m'\u001b[39;49m\u001b[43m)\u001b[49m\n",
      "\u001b[0;31mTypeError\u001b[0m: inference_detector() got an unexpected keyword argument 'outdir'"
     ]
    }
   ],
   "source": [
    "import cv2\n",
    "from mmdet.registry import VISUALIZERS\n",
    "from mmcv.image import imconvert\n",
    "import mmcv\n",
    "visualizer = VISUALIZERS.build(model.cfg.visualizer)\n",
    "result = inference_detector(model, img, outdir='./out')\n"
   ]
  },
  {
   "cell_type": "code",
   "execution_count": 26,
   "metadata": {
    "id": "UsJU5D-QPX8L"
   },
   "outputs": [
    {
     "ename": "NameError",
     "evalue": "name 'show_result_pyplot' is not defined",
     "output_type": "error",
     "traceback": [
      "\u001b[0;31m---------------------------------------------------------------------------\u001b[0m",
      "\u001b[0;31mNameError\u001b[0m                                 Traceback (most recent call last)",
      "Cell \u001b[0;32mIn[26], line 2\u001b[0m\n\u001b[1;32m      1\u001b[0m \u001b[38;5;66;03m# Let's plot the result\u001b[39;00m\n\u001b[0;32m----> 2\u001b[0m \u001b[43mshow_result_pyplot\u001b[49m(model, img, result, score_thr\u001b[38;5;241m=\u001b[39m\u001b[38;5;241m0.3\u001b[39m)\n",
      "\u001b[0;31mNameError\u001b[0m: name 'show_result_pyplot' is not defined"
     ]
    }
   ],
   "source": [
    "# Let's plot the result\n",
    "# show_result_pyplot(model, img, result, score_thr=0.3)"
   ]
  },
  {
   "cell_type": "markdown",
   "metadata": {
    "id": "iEzfFRYGX12i"
   },
   "source": [
    "SSD300:"
   ]
  },
  {
   "cell_type": "code",
   "execution_count": null,
   "metadata": {
    "id": "xPSUqcriV0jP"
   },
   "outputs": [],
   "source": [
    "config = 'configs/ssd/ssd300_coco.py'\n",
    "checkpoint = 'checkpoints/ssd300_coco_20210803_015428-d231a06e.pth'\n",
    "model = init_detector(config, checkpoint, device='cuda:0')\n",
    "result = inference_detector(model, img)\n",
    "show_result_pyplot(model, img, result, score_thr=0.3)"
   ]
  },
  {
   "cell_type": "code",
   "execution_count": null,
   "metadata": {
    "id": "QoQePrzOaXUB"
   },
   "outputs": [],
   "source": [
    "!ls -la checkpoints"
   ]
  },
  {
   "cell_type": "markdown",
   "metadata": {
    "id": "hHPsnKTtaYkz"
   },
   "source": [
    "**Insight**: Mask-RCNN weights 178Mb, and SSD weights 137Mb, and it logically corresponds to their quality: SSD sees less objects on the scenes, therefore it has more False Negatives."
   ]
  },
  {
   "cell_type": "markdown",
   "metadata": {
    "id": "7GrWIJywLV-V"
   },
   "source": [
    "## Train a detector on customized dataset\n",
    "\n",
    "To train a new detector, there are usually three things to do:\n",
    "1. Support a new dataset\n",
    "2. Modify the config\n",
    "3. Train a new detector\n",
    "\n"
   ]
  },
  {
   "cell_type": "markdown",
   "metadata": {
    "id": "E73y5Lru-wBx"
   },
   "source": [
    "### Support a new dataset\n",
    "\n",
    "There are three ways to support a new dataset in MMDetection:\n",
    "  1. reorganize the dataset into COCO format.\n",
    "  2. reorganize the dataset into a middle format.\n",
    "  3. implement a new dataset.\n",
    "\n",
    "Usually we recommend to use the first two methods which are usually easier than the third.\n",
    "\n",
    "In this tutorial, we gives an example that converting the data into the format of existing datasets like COCO, VOC, etc. Other methods and more advanced usages can be found in the [doc](https://mmdetection.readthedocs.io/en/latest/tutorials/new_dataset.html#).\n",
    "\n",
    "Firstly, let's download a tiny dataset obtained from [KITTI](http://www.cvlibs.net/datasets/kitti/eval_object.php?obj_benchmark=3d). We select the first 75 images and their annotations from the 3D object detection dataset (it is the same dataset as the 2D object detection dataset but has 3D annotations). We convert the original images from PNG to JPEG format with 80% quality to reduce the size of dataset."
   ]
  },
  {
   "cell_type": "code",
   "execution_count": null,
   "metadata": {
    "id": "rHnw5Q_nARXq"
   },
   "outputs": [],
   "source": [
    "# download, decompress the data\n",
    "!wget https://download.openmmlab.com/mmdetection/data/kitti_tiny.zip\n",
    "!unzip kitti_tiny.zip > /dev/null"
   ]
  },
  {
   "cell_type": "code",
   "execution_count": null,
   "metadata": {
    "id": "Wuwxw1oZRtVZ"
   },
   "outputs": [],
   "source": [
    "# Check the directory structure of the tiny data\n",
    "\n",
    "# Install tree first\n",
    "!apt-get -q install tree\n",
    "!tree kitti_tiny"
   ]
  },
  {
   "cell_type": "code",
   "execution_count": null,
   "metadata": {
    "id": "YnQQqzOWzE91"
   },
   "outputs": [],
   "source": [
    "# Let's take a look at the dataset image\n",
    "import mmcv\n",
    "import matplotlib.pyplot as plt\n",
    "\n",
    "img = mmcv.imread('kitti_tiny/training/image_2/000073.jpeg')\n",
    "plt.figure(figsize=(15, 10))\n",
    "plt.imshow(mmcv.bgr2rgb(img))\n",
    "plt.show()"
   ]
  },
  {
   "cell_type": "markdown",
   "metadata": {
    "id": "PMZvtSIl71qi"
   },
   "source": [
    "After downloading the data, we need to implement a function to convert the kitti annotation format into the middle format. In this tutorial we choose to convert them in **`load_annotations`** function in a newly implemented **`KittiTinyDataset`**.\n",
    "\n",
    "Let's take a look at the annotation txt file.\n",
    "\n"
   ]
  },
  {
   "cell_type": "code",
   "execution_count": null,
   "metadata": {
    "id": "n7rwalnPd6e1"
   },
   "outputs": [],
   "source": [
    "# Check the label of a single image\n",
    "!cat kitti_tiny/training/label_2/000000.txt"
   ]
  },
  {
   "cell_type": "markdown",
   "metadata": {
    "id": "QA1pFg-FeO3l"
   },
   "source": [
    "According to the KITTI's documentation, the first column indicates the class of the object, and the 5th to 8th columns indicates the bboxes. We need to read annotations of each image and convert them into middle format MMDetection accept is as below:\n",
    "\n",
    "```python\n",
    "[\n",
    "    {\n",
    "        'filename': 'a.jpg',\n",
    "        'width': 1280,\n",
    "        'height': 720,\n",
    "        'ann': {\n",
    "            'bboxes': <np.ndarray> (n, 4),\n",
    "            'labels': <np.ndarray> (n, ),\n",
    "            'bboxes_ignore': <np.ndarray> (k, 4), (optional field)\n",
    "            'labels_ignore': <np.ndarray> (k, 4) (optional field)\n",
    "        }\n",
    "    },\n",
    "    ...\n",
    "]\n",
    "```"
   ]
  },
  {
   "cell_type": "code",
   "execution_count": null,
   "metadata": {
    "id": "GdSaB2ad0EdX"
   },
   "outputs": [],
   "source": [
    "import copy\n",
    "import os.path as osp\n",
    "\n",
    "import mmcv\n",
    "import numpy as np\n",
    "\n",
    "from mmdet.datasets.builder import DATASETS\n",
    "from mmdet.datasets.custom import CustomDataset\n",
    "\n",
    "@DATASETS.register_module()\n",
    "class KittiTinyDataset(CustomDataset):\n",
    "\n",
    "    CLASSES = ('Car', 'Pedestrian', 'Cyclist')\n",
    "\n",
    "    def load_annotations(self, ann_file):\n",
    "        cat2label = {k: i for i, k in enumerate(self.CLASSES)}\n",
    "        # load image list from file\n",
    "        image_list = mmcv.list_from_file(self.ann_file)\n",
    "\n",
    "        data_infos = []\n",
    "        # convert annotations to middle format\n",
    "        for image_id in image_list:\n",
    "            filename = f'{self.img_prefix}/{image_id}.jpeg'\n",
    "            image = mmcv.imread(filename)\n",
    "            height, width = image.shape[:2]\n",
    "\n",
    "            data_info = dict(filename=f'{image_id}.jpeg', width=width, height=height)\n",
    "\n",
    "            # load annotations\n",
    "            label_prefix = self.img_prefix.replace('image_2', 'label_2')\n",
    "            lines = mmcv.list_from_file(osp.join(label_prefix, f'{image_id}.txt'))\n",
    "\n",
    "            content = [line.strip().split(' ') for line in lines]\n",
    "            bbox_names = [x[0] for x in content]\n",
    "            bboxes = [[float(info) for info in x[4:8]] for x in content]\n",
    "\n",
    "            gt_bboxes = []\n",
    "            gt_labels = []\n",
    "            gt_bboxes_ignore = []\n",
    "            gt_labels_ignore = []\n",
    "\n",
    "            # filter 'DontCare'\n",
    "            for bbox_name, bbox in zip(bbox_names, bboxes):\n",
    "                if bbox_name in cat2label:\n",
    "                    gt_labels.append(cat2label[bbox_name])\n",
    "                    gt_bboxes.append(bbox)\n",
    "                else:\n",
    "                    gt_labels_ignore.append(-1)\n",
    "                    gt_bboxes_ignore.append(bbox)\n",
    "\n",
    "            data_anno = dict(\n",
    "                bboxes=np.array(gt_bboxes, dtype=np.float32).reshape(-1, 4),\n",
    "                labels=np.array(gt_labels, dtype=np.long),\n",
    "                bboxes_ignore=np.array(gt_bboxes_ignore,\n",
    "                                       dtype=np.float32).reshape(-1, 4),\n",
    "                labels_ignore=np.array(gt_labels_ignore, dtype=np.long))\n",
    "\n",
    "            data_info.update(ann=data_anno)\n",
    "            data_infos.append(data_info)\n",
    "\n",
    "        return data_infos"
   ]
  },
  {
   "cell_type": "markdown",
   "metadata": {
    "id": "PwqJOpBe-bMj"
   },
   "source": [
    "### Modify the config\n",
    "\n",
    "In the next step, we need to modify the config for the training.\n",
    "To accelerate the process, we finetune a detector using a pre-trained detector."
   ]
  },
  {
   "cell_type": "code",
   "execution_count": null,
   "metadata": {
    "id": "hamZrlnH-YDD"
   },
   "outputs": [],
   "source": [
    "from mmcv import Config\n",
    "\n",
    "model_type = \"ssd\"\n",
    "\n",
    "if model_type == \"ssd\":\n",
    "  cfg = Config.fromfile('./configs/ssd/ssd300_coco.py')\n",
    "elif model_type == \"mask_rcnn\":\n",
    "  cfg = Config.fromfile('./configs/faster_rcnn/faster_rcnn_r50_caffe_fpn_mstrain_1x_coco.py')"
   ]
  },
  {
   "cell_type": "code",
   "execution_count": null,
   "metadata": {
    "id": "RclcNheg1QT3"
   },
   "outputs": [],
   "source": [
    "cfg[\"data\"]"
   ]
  },
  {
   "cell_type": "markdown",
   "metadata": {
    "id": "HntziLGq-92Z"
   },
   "source": [
    "Given a config that trains a Faster R-CNN on COCO dataset, we need to modify some values to use it for training Faster R-CNN on KITTI dataset."
   ]
  },
  {
   "cell_type": "markdown",
   "metadata": {
    "id": "R1BfXym8uy1k"
   },
   "source": [
    "\n",
    "> - [SSD training issue 1](https://github.com/open-mmlab/mmdetection/issues/1203)\n",
    "- [SSD training issue 2](https://github.com/open-mmlab/mmdetection/issues/2448)"
   ]
  },
  {
   "cell_type": "code",
   "execution_count": null,
   "metadata": {
    "id": "pUbwD8uV0PR8"
   },
   "outputs": [],
   "source": [
    "from mmdet.apis import set_random_seed\n",
    "\n",
    "# Modify dataset type and path\n",
    "cfg.dataset_type = 'KittiTinyDataset'\n",
    "cfg.data_root = 'kitti_tiny/'\n",
    "\n",
    "cfg.data.test.type = 'KittiTinyDataset'\n",
    "cfg.data.test.data_root = 'kitti_tiny/'\n",
    "cfg.data.test.ann_file = 'train.txt'\n",
    "cfg.data.test.img_prefix = 'training/image_2'\n",
    "\n",
    "if model_type == \"ssd\":\n",
    "  cfg.data.train.dataset.type = 'KittiTinyDataset'\n",
    "  cfg.data.train.dataset.data_root = 'kitti_tiny/'\n",
    "  cfg.data.train.dataset.ann_file = 'train.txt'\n",
    "  cfg.data.train.dataset.img_prefix = 'training/image_2'\n",
    "elif model_type == \"mask_rcnn\":\n",
    "  cfg.data.train.type = 'KittiTinyDataset'\n",
    "  cfg.data.train.data_root = 'kitti_tiny/'\n",
    "  cfg.data.train.ann_file = 'train.txt'\n",
    "  cfg.data.train.img_prefix = 'training/image_2'\n",
    "\n",
    "cfg.data.val.type = 'KittiTinyDataset'\n",
    "cfg.data.val.data_root = 'kitti_tiny/'\n",
    "cfg.data.val.ann_file = 'val.txt'\n",
    "cfg.data.val.img_prefix = 'training/image_2'\n",
    "\n",
    "if model_type == \"ssd\":\n",
    "  cfg.model.bbox_head.num_classes = 3\n",
    "  cfg.load_from = 'checkpoints/ssd300_coco_20210803_015428-d231a06e.pth'\n",
    "elif model_type == \"mask_rcnn\":\n",
    "  cfg.model.roi_head.bbox_head.num_classes = 3\n",
    "  cfg.load_from = 'checkpoints/mask_rcnn_r50_caffe_fpn_mstrain-poly_3x_coco_bbox_mAP-0.408__segm_mAP-0.37_20200504_163245-42aa3d00.pth'\n",
    "\n",
    "# Set up working dir to save files and logs.\n",
    "cfg.work_dir = './tutorial_exps'\n",
    "\n",
    "# The original learning rate (LR) is set for 8-GPU training.\n",
    "# We divide it by 8 since we only use one GPU.\n",
    "# ssd300_coco and ssd300_voc with 4gpu, 24 imgs per gpu and lr of 3e-3\n",
    "cfg.optimizer.lr = 0.02 / 8.  # 3e-3\n",
    "# cfg.lr_config.warmup = None\n",
    "cfg.lr_config.policy = 'step'\n",
    "cfg.lr_config.warmup = 'linear'\n",
    "cfg.lr_config.warmup_ratio = 1.0 / 1e10\n",
    "\n",
    "cfg.log_config.interval = 10\n",
    "\n",
    "# Change the evaluation metric since we use customized dataset.\n",
    "cfg.evaluation.metric = 'mAP'\n",
    "# We can set the evaluation interval to reduce the evaluation times\n",
    "cfg.evaluation.interval = 12\n",
    "# We can set the checkpoint saving interval to reduce the storage cost\n",
    "cfg.checkpoint_config.interval = 12\n",
    "\n",
    "# Set seed thus the results are more reproducible\n",
    "cfg.seed = 0\n",
    "set_random_seed(0, deterministic=False)\n",
    "cfg.gpu_ids = range(1)\n",
    "\n",
    "# We can initialize the logger for training and have a look\n",
    "# at the final config used for training\n",
    "print(f'Config:\\n{cfg.pretty_text}')\n"
   ]
  },
  {
   "cell_type": "markdown",
   "metadata": {
    "id": "111W_oZV_3wa"
   },
   "source": [
    "### Train a new detector\n",
    "\n",
    "Finally, lets initialize the dataset and detector, then train a new detector!"
   ]
  },
  {
   "cell_type": "code",
   "execution_count": null,
   "metadata": {
    "id": "7WBWHu010PN3"
   },
   "outputs": [],
   "source": [
    "from mmdet.datasets import build_dataset\n",
    "from mmdet.models import build_detector\n",
    "from mmdet.apis import train_detector\n",
    "\n",
    "\n",
    "# Build dataset\n",
    "datasets = [build_dataset(cfg.data.train)]\n",
    "\n",
    "# Build the detector\n",
    "model = build_detector( cfg.model, train_cfg=cfg.get('train_cfg'), test_cfg=cfg.get('test_cfg'))\n",
    "# Add an attribute for visualization convenience\n",
    "model.CLASSES = datasets[0].CLASSES\n",
    "\n",
    "# Create work_dir\n",
    "mmcv.mkdir_or_exist(osp.abspath(cfg.work_dir))\n",
    "train_detector(model, datasets, cfg, distributed=False, validate=True)"
   ]
  },
  {
   "cell_type": "markdown",
   "metadata": {
    "id": "_vYQF5K2NqqI"
   },
   "source": [
    "### Understand the log\n",
    "From the log, we can have a basic understanding the training process and know how well the detector is trained.\n",
    "\n",
    "Firstly, the ResNet-50 backbone pre-trained on ImageNet is loaded, this is a common practice since training from scratch is more cost. The log shows that all the weights of the ResNet-50 backbone are loaded except the `conv1.bias`, which has been merged into `conv.weights`.\n",
    "\n",
    "Second, since the dataset we are using is small, we loaded a Mask R-CNN model and finetune it for detection. Because the detector we actually using is Faster R-CNN, the weights in mask branch, e.g. `roi_head.mask_head`, are `unexpected key in source state_dict` and not loaded.\n",
    "The original Mask R-CNN is trained on COCO dataset which contains 80 classes but KITTI Tiny dataset only have 3 classes. Therefore, the last FC layer of the pre-trained Mask R-CNN for classification has different weight shape and is not used.\n",
    "\n",
    "Third, after training, the detector is evaluated by the default VOC-style evaluation. The results show that the detector achieves 54.1 mAP on the val dataset,\n",
    " not bad!"
   ]
  },
  {
   "cell_type": "markdown",
   "metadata": {
    "id": "MfQ-yspZLuuI"
   },
   "source": [
    "## Test the trained detector\n",
    "\n",
    "After finetuning the detector, let's visualize the prediction results!"
   ]
  },
  {
   "cell_type": "code",
   "execution_count": null,
   "metadata": {
    "id": "_MuZurfGLq0p"
   },
   "outputs": [],
   "source": [
    "img = mmcv.imread('kitti_tiny/training/image_2/000068.jpeg')\n",
    "\n",
    "model.cfg = cfg\n",
    "result = inference_detector(model, img)\n",
    "show_result_pyplot(model, img, result)"
   ]
  },
  {
   "cell_type": "markdown",
   "metadata": {
    "id": "Xu6uH3WotIcG"
   },
   "source": [
    "Feel free to test on your images:"
   ]
  },
  {
   "cell_type": "code",
   "execution_count": null,
   "metadata": {
    "id": "gHGSyNFwtb3X"
   },
   "outputs": [],
   "source": [
    "!wget <your image uri>"
   ]
  },
  {
   "cell_type": "code",
   "execution_count": null,
   "metadata": {
    "id": "YfFvTvHgtgTf"
   },
   "outputs": [],
   "source": [
    "!ls"
   ]
  },
  {
   "cell_type": "code",
   "execution_count": null,
   "metadata": {
    "id": "cgSKHJobQpt6"
   },
   "outputs": [],
   "source": [
    "img = mmcv.imread('kitti_tiny/training/image_2/000060.jpeg')\n",
    "\n",
    "model.cfg = cfg\n",
    "result = inference_detector(model, img)\n",
    "show_result_pyplot(model, img, result)"
   ]
  },
  {
   "cell_type": "markdown",
   "metadata": {
    "id": "htmlBWactlkY"
   },
   "source": [
    "## Useful links"
   ]
  },
  {
   "cell_type": "markdown",
   "metadata": {
    "id": "NXyds6_0tnf1"
   },
   "source": [
    "- Andrej Karpathy (Tesla AI director) [keynote on multi-task learning](https://slideslive.com/38917690/multitask-learning-in-the-wilderness) (ENG)\n",
    "- [CV practice 2019](https://www.youtube.com/watch?v=XSPYe4-y4HE) (RUS)\n",
    "- [Habrahabr post: Classification & Representation](https://habr.com/ru/company/mipt/blog/458190/) (RUS)\n",
    "- [Habrahabr post: Detection & Tracking](https://habr.com/ru/company/mipt/blog/450732/) (RUS)\n"
   ]
  }
 ],
 "metadata": {
  "accelerator": "GPU",
  "colab": {
   "provenance": []
  },
  "kernelspec": {
   "display_name": "Python 3 (ipykernel)",
   "language": "python",
   "name": "python3"
  },
  "language_info": {
   "codemirror_mode": {
    "name": "ipython",
    "version": 3
   },
   "file_extension": ".py",
   "mimetype": "text/x-python",
   "name": "python",
   "nbconvert_exporter": "python",
   "pygments_lexer": "ipython3",
   "version": "3.11.5"
  }
 },
 "nbformat": 4,
 "nbformat_minor": 4
}
